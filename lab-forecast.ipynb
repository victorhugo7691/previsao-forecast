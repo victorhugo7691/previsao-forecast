{
 "cells": [
  {
   "cell_type": "markdown",
   "id": "9fa504fc",
   "metadata": {
    "tags": []
   },
   "source": [
    "# Bem-vindo ao Guia de início rápido do Amazon Forecast\n",
    "\n",
    "Usar o Amazon Forecast envolve as 3 etapas a seguir.\n",
    "\n",
    "![Amazon Forecast Workflow](https://github.com/aws-samples/amazon-forecast-samples/raw/main/notebooks/basic/Getting_Started/images/workflow.png)\n",
    "\n",
    "Imagine que estejamos tentando resolver o problema de previsão de um serviço de táxi e queremos prever quantas corridas são esperadas em áreas específicas de Nova York. Para este exercício, usaremos os registros de viagem de táxi amarelo de [NYC Taxi and Limousine Commission (TLC)](https://www1.nyc.gov/site/tlc/about/tlc-trip-record-data.page). \n",
    "\n",
    "Vamos começar por **importando os dados históricos de dezembro de 2017 a janeiro de 2019**. Em seguida, vamos **treinar um Predictor** usando esses dados. Finalmente, vamos **gerar uma previsão para fevereiro de 2019** e **compara-lo com os dados reais de fevereiro de 2019**.\n",
    "\n",
    "## Sumário\n",
    "* [Pre-requisites](#prerequisites)\n",
    "* Etapa 1: [Importar os dados](#import)\n",
    "* Etapa 2: [Treinar um preditor](#predictor)\n",
    "* Etapa 3: [Gerar previsões](#forecast)\n",
    "* [Clean-up](#cleanup)"
   ]
  },
  {
   "cell_type": "markdown",
   "id": "1cd632a4",
   "metadata": {
    "tags": []
   },
   "source": [
    "## Pré-requisitos <a class=\"anchor\" id=\"prerequisites\"></a>\n",
    "Antes de começarmos, vamos configurar o ambiente do notebook, o cliente AWS SDK para Amazon Forecast e IAM Role usado pela Amazon Forecast para acessar seus dados."
   ]
  },
  {
   "cell_type": "markdown",
   "id": "e13d8e72",
   "metadata": {},
   "source": [
    "#### Configuração do ambiente do Notebook"
   ]
  },
  {
   "cell_type": "code",
   "execution_count": 1,
   "id": "0482b729",
   "metadata": {
    "tags": []
   },
   "outputs": [],
   "source": [
    "%%capture --no-stderr setup\n",
    "\n",
    "!pip install pandas s3fs matplotlib ipywidgets\n",
    "!pip install boto3 --upgrade\n",
    "\n",
    "%reload_ext autoreload"
   ]
  },
  {
   "cell_type": "markdown",
   "id": "b2b4fa39",
   "metadata": {},
   "source": [
    "#### Importações de configuração"
   ]
  },
  {
   "cell_type": "code",
   "execution_count": 2,
   "id": "ee6a1199",
   "metadata": {
    "tags": []
   },
   "outputs": [],
   "source": [
    "import sys\n",
    "import os\n",
    "\n",
    "sys.path.insert( 0, os.path.abspath(\"../../common\") )\n",
    "\n",
    "import json\n",
    "import boto3\n",
    "import s3fs\n",
    "import pandas as pd\n",
    "import time"
   ]
  },
  {
   "cell_type": "markdown",
   "id": "39f04ebd",
   "metadata": {},
   "source": [
    "#### Crie uma instância do cliente AWS SDK para Amazon Forecast"
   ]
  },
  {
   "cell_type": "code",
   "execution_count": 3,
   "id": "d5e2a20f",
   "metadata": {
    "tags": []
   },
   "outputs": [],
   "source": [
    "region = 'us-east-1'\n",
    "session = boto3.Session(region_name=region) \n",
    "forecast = session.client(service_name='forecast')\n",
    "forecastquery = session.client(service_name='forecastquery')\n",
    "\n",
    "# Verificando para ter certeza de que podemos nos comunicar com a Amazon Forecast\n",
    "assert forecast.list_predictors()"
   ]
  },
  {
   "cell_type": "markdown",
   "id": "79ec08b7",
   "metadata": {},
   "source": [
    "#### Configure a função IAM usada pela Amazon Forecast para acessar seus dados"
   ]
  },
  {
   "cell_type": "code",
   "execution_count": 4,
   "id": "d67b0ad0",
   "metadata": {
    "tags": []
   },
   "outputs": [],
   "source": [
    "iam = boto3.resource('iam')\n",
    "role_arn = iam.Role('LabRole').arn"
   ]
  },
  {
   "cell_type": "markdown",
   "id": "c12d2a07",
   "metadata": {},
   "source": [
    "## Etapa 1: Importar os dados. <a class=\"anchor\" id=\"import\"></a>\n",
    "\n",
    "Nesta etapa, criaremos um **Dataset** e **importaremos** o conjunto de dados de dezembro de 2017 a janeiro de 2019 do S3 ao Amazon Forecast. Para treinar um Preditor, precisaremos de um **DatasetGroup** que agrupa a entrada **Dataset**. Então, vamos terminar esta etapa criando um **DatasetGroup** com o **Dataset** importado."
   ]
  },
  {
   "cell_type": "markdown",
   "id": "6e12c4ae",
   "metadata": {},
   "source": [
    "#### Dê uma olhada nos dados e carregue-os no S3.\n",
    "\n",
    "O conjunto de dados de táxi tem as seguintes 3 colunas:\n",
    "1. **timestamp:** Carimbo de data / hora em que as coletas são solicitadas.\n",
    "2. **item_id:** Identificação do local de coleta.\n",
    "3. **target_value:** Número de coletas solicitadas próximo ao carimbo de data / hora no local de coleta."
   ]
  },
  {
   "cell_type": "code",
   "execution_count": 7,
   "id": "f4943e81",
   "metadata": {
    "tags": []
   },
   "outputs": [
    {
     "data": {
      "text/html": [
       "<div>\n",
       "<style scoped>\n",
       "    .dataframe tbody tr th:only-of-type {\n",
       "        vertical-align: middle;\n",
       "    }\n",
       "\n",
       "    .dataframe tbody tr th {\n",
       "        vertical-align: top;\n",
       "    }\n",
       "\n",
       "    .dataframe thead th {\n",
       "        text-align: right;\n",
       "    }\n",
       "</style>\n",
       "<table border=\"1\" class=\"dataframe\">\n",
       "  <thead>\n",
       "    <tr style=\"text-align: right;\">\n",
       "      <th></th>\n",
       "      <th>timestamp</th>\n",
       "      <th>item_id</th>\n",
       "      <th>target_value</th>\n",
       "    </tr>\n",
       "  </thead>\n",
       "  <tbody>\n",
       "    <tr>\n",
       "      <th>0</th>\n",
       "      <td>2017-12-01 00:00:00</td>\n",
       "      <td>4</td>\n",
       "      <td>27</td>\n",
       "    </tr>\n",
       "    <tr>\n",
       "      <th>1</th>\n",
       "      <td>2017-12-01 00:00:00</td>\n",
       "      <td>7</td>\n",
       "      <td>36</td>\n",
       "    </tr>\n",
       "    <tr>\n",
       "      <th>2</th>\n",
       "      <td>2017-12-01 00:00:00</td>\n",
       "      <td>10</td>\n",
       "      <td>2</td>\n",
       "    </tr>\n",
       "  </tbody>\n",
       "</table>\n",
       "</div>"
      ],
      "text/plain": [
       "             timestamp item_id target_value\n",
       "0  2017-12-01 00:00:00       4           27\n",
       "1  2017-12-01 00:00:00       7           36\n",
       "2  2017-12-01 00:00:00      10            2"
      ]
     },
     "metadata": {},
     "output_type": "display_data"
    },
    {
     "name": "stdout",
     "output_type": "stream",
     "text": [
      "\n",
      "Tentativa de fazer upload dos dados para o bucket S3 '1678609923752774-forecastbucket-17evzbj31goij-victor' usando chave 'taxi-dec2017-jan2019.csv' ...\n",
      "\n",
      "Feito, o conjunto de dados é carregado para o S3 em s3://1678609923752774-forecastbucket-17evzbj31goij-victor/taxi-dec2017-jan2019.csv.\n"
     ]
    }
   ],
   "source": [
    "key=\"taxi-dec2017-jan2019.csv\"\n",
    "\n",
    "taxi_df = pd.read_csv(key, dtype = object, names=['timestamp','item_id','target_value'])\n",
    "\n",
    "display(taxi_df.head(3))\n",
    "\n",
    "bucket_name = '1678609923752774-forecastbucket-17evzbj31goij-victor'\n",
    "print(f\"\\nTentativa de fazer upload dos dados para o bucket S3 '{bucket_name}' usando chave '{key}' ...\")\n",
    "\n",
    "s3 = boto3.Session().resource('s3')\n",
    "bucket = s3.Bucket(bucket_name)\n",
    "if not bucket.creation_date:\n",
    "    if region != \"us-east-1\":\n",
    "        s3.create_bucket(Bucket=bucket_name, CreateBucketConfiguration={'LocationConstraint': region})\n",
    "    else:\n",
    "        s3.create_bucket(Bucket=bucket_name)\n",
    "\n",
    "s3.Bucket(bucket_name).Object(key).upload_file(key)\n",
    "ts_s3_path = f\"s3://{bucket_name}/{key}\"\n",
    "\n",
    "print(f\"\\nFeito, o conjunto de dados é carregado para o S3 em {ts_s3_path}.\")"
   ]
  },
  {
   "cell_type": "markdown",
   "id": "04f45708",
   "metadata": {},
   "source": [
    "#### Criando o Dataset"
   ]
  },
  {
   "cell_type": "code",
   "execution_count": 8,
   "id": "73930de9",
   "metadata": {
    "tags": []
   },
   "outputs": [
    {
     "name": "stdout",
     "output_type": "stream",
     "text": [
      "O Dataset com ARN arn:aws:forecast:us-east-1:215789695050:dataset/TAXI_TSD está agora ACTIVE.\n"
     ]
    }
   ],
   "source": [
    "DATASET_FREQUENCY = \"H\" # H for hourly.\n",
    "TS_DATASET_NAME = \"TAXI_TSD\"\n",
    "TS_SCHEMA = {\n",
    "   \"Attributes\":[\n",
    "      {\n",
    "         \"AttributeName\":\"timestamp\",\n",
    "         \"AttributeType\":\"timestamp\"\n",
    "      },\n",
    "      {\n",
    "         \"AttributeName\":\"item_id\",\n",
    "         \"AttributeType\":\"string\"\n",
    "      },\n",
    "      {\n",
    "         \"AttributeName\":\"target_value\",\n",
    "         \"AttributeType\":\"integer\"\n",
    "      }\n",
    "   ]\n",
    "}\n",
    "\n",
    "create_dataset_response = forecast.create_dataset(Domain=\"CUSTOM\",\n",
    "                                                  DatasetType='TARGET_TIME_SERIES',\n",
    "                                                  DatasetName=TS_DATASET_NAME,\n",
    "                                                  DataFrequency=DATASET_FREQUENCY,\n",
    "                                                  Schema=TS_SCHEMA)\n",
    "\n",
    "ts_dataset_arn = create_dataset_response['DatasetArn']\n",
    "describe_dataset_response = forecast.describe_dataset(DatasetArn=ts_dataset_arn)\n",
    "\n",
    "print(f\"O Dataset com ARN {ts_dataset_arn} está agora {describe_dataset_response['Status']}.\")"
   ]
  },
  {
   "cell_type": "markdown",
   "id": "8a33e5e2",
   "metadata": {},
   "source": [
    "#### Importando o Dataset"
   ]
  },
  {
   "cell_type": "code",
   "execution_count": 9,
   "id": "4847ef04",
   "metadata": {
    "tags": []
   },
   "outputs": [
    {
     "name": "stdout",
     "output_type": "stream",
     "text": [
      "Aguardando trabalho de importação de conjunto de dados com ARN arn:aws:forecast:us-east-1:215789695050:dataset-import-job/TAXI_TSD/TAXI_TTS_IMPORT se tornar ACTIVE. Esse processo pode levar de 5 a 10 minutos.\n",
      "\n",
      "Current Status:\n",
      "CREATE_PENDING ..\n",
      "CREATE_IN_PROGRESS .....................................................................................................\n",
      "ACTIVE \n",
      "O Dataset Import Job com ARN arn:aws:forecast:us-east-1:215789695050:dataset-import-job/TAXI_TSD/TAXI_TTS_IMPORT está agora ACTIVE.\n"
     ]
    }
   ],
   "source": [
    "TIMESTAMP_FORMAT = \"yyyy-MM-dd hh:mm:ss\"\n",
    "TS_IMPORT_JOB_NAME = \"TAXI_TTS_IMPORT\"\n",
    "TIMEZONE = \"EST\"\n",
    "\n",
    "ts_dataset_import_job_response = \\\n",
    "    forecast.create_dataset_import_job(DatasetImportJobName=TS_IMPORT_JOB_NAME,\n",
    "                                       DatasetArn=ts_dataset_arn,\n",
    "                                       DataSource= {\n",
    "                                         \"S3Config\" : {\n",
    "                                             \"Path\": ts_s3_path,\n",
    "                                             \"RoleArn\": role_arn\n",
    "                                         } \n",
    "                                       },\n",
    "                                       TimestampFormat=TIMESTAMP_FORMAT,\n",
    "                                       TimeZone = TIMEZONE)\n",
    "\n",
    "ts_dataset_import_job_arn = ts_dataset_import_job_response['DatasetImportJobArn']\n",
    "describe_dataset_import_job_response = forecast.describe_dataset_import_job(DatasetImportJobArn=ts_dataset_import_job_arn)\n",
    "\n",
    "print(f\"Aguardando trabalho de importação de conjunto de dados com ARN {ts_dataset_import_job_arn} se tornar ACTIVE. Esse processo pode levar de 5 a 10 minutos.\\n\\nCurrent Status:\")\n",
    "\n",
    "class StatusIndicator:\n",
    "    \n",
    "    def __init__(self):\n",
    "        self.previous_status = None\n",
    "        self.need_newline = False\n",
    "        \n",
    "    def update( self, status ):\n",
    "        if self.previous_status != status:\n",
    "            if self.need_newline:\n",
    "                sys.stdout.write(\"\\n\")\n",
    "            sys.stdout.write( status + \" \")\n",
    "            self.need_newline = True\n",
    "            self.previous_status = status\n",
    "        else:\n",
    "            sys.stdout.write(\".\")\n",
    "            self.need_newline = True\n",
    "        sys.stdout.flush()\n",
    "\n",
    "    def end(self):\n",
    "        if self.need_newline:\n",
    "            sys.stdout.write(\"\\n\")\n",
    "\n",
    "# Aguarde a conclusão do conjunto de dados relacionado.\n",
    "status_indicator = StatusIndicator()\n",
    "\n",
    "while True:\n",
    "    status = forecast.describe_dataset_import_job(DatasetImportJobArn=ts_dataset_import_job_arn)['Status']\n",
    "    status_indicator.update(status)\n",
    "    if status in ('ACTIVE', 'CREATE_FAILED'): break\n",
    "    time.sleep(10)\n",
    "\n",
    "describe_dataset_import_job_response = forecast.describe_dataset_import_job(DatasetImportJobArn=ts_dataset_import_job_arn)\n",
    "print(f\"\\nO Dataset Import Job com ARN {ts_dataset_import_job_arn} está agora {describe_dataset_import_job_response['Status']}.\")"
   ]
  },
  {
   "cell_type": "markdown",
   "id": "a78b4cbd",
   "metadata": {},
   "source": [
    "#### Criando um DatasetGroup"
   ]
  },
  {
   "cell_type": "code",
   "execution_count": 10,
   "id": "0bf817a9",
   "metadata": {
    "tags": []
   },
   "outputs": [
    {
     "name": "stdout",
     "output_type": "stream",
     "text": [
      "O DatasetGroup com ARN arn:aws:forecast:us-east-1:215789695050:dataset-group/TAXI_DEMO está agora ACTIVE.\n"
     ]
    }
   ],
   "source": [
    "DATASET_GROUP_NAME = \"TAXI_DEMO\"\n",
    "DATASET_ARNS = [ts_dataset_arn]\n",
    "\n",
    "create_dataset_group_response = \\\n",
    "    forecast.create_dataset_group(Domain=\"CUSTOM\",\n",
    "                                  DatasetGroupName=DATASET_GROUP_NAME,\n",
    "                                  DatasetArns=DATASET_ARNS)\n",
    "\n",
    "dataset_group_arn = create_dataset_group_response['DatasetGroupArn']\n",
    "describe_dataset_group_response = forecast.describe_dataset_group(DatasetGroupArn=dataset_group_arn)\n",
    "\n",
    "print(f\"O DatasetGroup com ARN {dataset_group_arn} está agora {describe_dataset_group_response['Status']}.\")"
   ]
  },
  {
   "cell_type": "markdown",
   "id": "143e6dfe",
   "metadata": {},
   "source": [
    "## Etapa 2: Treinar um Preditor <a class=\"anchor\" id=\"predictor\"></a>\n",
    "\n",
    "Nesta etapa, criaremos um **Preditor** usando o **DatasetGroup** que foi criado acima. Depois de criar o preditor, revisaremos a precisão obtida por meio do processo de backtesting para obter uma compreensão quantitativa do desempenho do preditor."
   ]
  },
  {
   "cell_type": "markdown",
   "id": "c9450126",
   "metadata": {},
   "source": [
    "#### Treinar um preditor"
   ]
  },
  {
   "cell_type": "code",
   "execution_count": null,
   "id": "8e135b15",
   "metadata": {
    "tags": []
   },
   "outputs": [
    {
     "name": "stdout",
     "output_type": "stream",
     "text": [
      "Esperando pelo Predictor com ARN arn:aws:forecast:us-east-1:215789695050:predictor/TAXI_PREDICTOR_01HC37YNDMG1A3WN09GH03N4RP se tornar ATIVO. Dependendo do tamanho dos dados e da configuração do preditor, pode levar várias horas para ficar ATIVO.\n",
      "\n",
      "Current Status:\n",
      "CREATE_PENDING .\n",
      "CREATE_IN_PROGRESS ...............................................................................................................................................................................................\n",
      "CREATE_STOPPING ................................................................................................................\n",
      "CREATE_STOPPED ............................................................................................"
     ]
    }
   ],
   "source": [
    "PREDICTOR_NAME = \"TAXI_PREDICTOR\"\n",
    "FORECAST_HORIZON = 24\n",
    "FORECAST_FREQUENCY = \"H\"\n",
    "HOLIDAY_DATASET = [{\n",
    "        'Name': 'holiday',\n",
    "        'Configuration': {\n",
    "        'CountryCode': ['US']\n",
    "    }\n",
    "}]\n",
    "\n",
    "create_auto_predictor_response = \\\n",
    "    forecast.create_auto_predictor(PredictorName = PREDICTOR_NAME,\n",
    "                                   ForecastHorizon = FORECAST_HORIZON,\n",
    "                                   ForecastFrequency = FORECAST_FREQUENCY,\n",
    "                                   DataConfig = {\n",
    "                                       'DatasetGroupArn': dataset_group_arn, \n",
    "                                       'AdditionalDatasets': HOLIDAY_DATASET\n",
    "                                    },\n",
    "                                   ExplainPredictor = True)\n",
    "\n",
    "predictor_arn = create_auto_predictor_response['PredictorArn']\n",
    "print(f\"Esperando pelo Predictor com ARN {predictor_arn} se tornar ATIVO. Dependendo do tamanho dos dados e da configuração do preditor, pode levar várias horas para ficar ATIVO.\\n\\nCurrent Status:\")\n",
    "\n",
    "status_indicator = StatusIndicator()\n",
    "\n",
    "while True:\n",
    "    status = forecast.describe_auto_predictor(PredictorArn=predictor_arn)['Status']\n",
    "    status_indicator.update(status)\n",
    "    if status in ('ACTIVE', 'CREATE_FAILED'): break\n",
    "    time.sleep(10)\n",
    "\n",
    "print(f\"\\n\\nO Preditor com ARN {predictor_arn} está agora {describe_auto_predictor_response['Status']}.\")"
   ]
  },
  {
   "cell_type": "markdown",
   "id": "64ebea87",
   "metadata": {},
   "source": [
    "#### Rever métricas de precisão\n",
    "\n",
    "* **Weighted Quantile Loss (wQL)** métrica mede a precisão de um modelo em um quantil especificado. É particularmente útil quando há custos diferentes para subestimar e superestimar.\n",
    "\n",
    "* **Root Mean Square Error (RMSE)** usa o valor quadrado dos resíduos, o que amplifica o impacto de outliers. Em casos de uso em que apenas algumas grandes previsões erradas podem ser muito caras, o RMSE é a métrica mais relevante.\n",
    "\n",
    "* **Weighted Absolute Percentage Error (WAPE)** é mais robusto para outliers do que Root Mean Square Error (RMSE) porque usa o erro absoluto em vez do erro quadrado.\n",
    "\n",
    "* **Mean Absolute Percentage Error (MAPE)** é útil para casos em que os valores diferem significativamente entre os pontos de tempo e os valores discrepantes têm um impacto significativo.\n",
    "\n",
    "* **Mean Absolute Scaled Error (MASE)** é ideal para conjuntos de dados de natureza cíclica ou com propriedades sazonais."
   ]
  },
  {
   "cell_type": "code",
   "execution_count": 27,
   "id": "4d4be62e",
   "metadata": {},
   "outputs": [
    {
     "name": "stdout",
     "output_type": "stream",
     "text": [
      "Weighted Quantile Loss (wQL): [\n",
      "  {\n",
      "    \"Quantile\": 0.9,\n",
      "    \"LossValue\": 0.059667972033150815\n",
      "  },\n",
      "  {\n",
      "    \"Quantile\": 0.5,\n",
      "    \"LossValue\": 0.11829382821794981\n",
      "  },\n",
      "  {\n",
      "    \"Quantile\": 0.1,\n",
      "    \"LossValue\": 0.05405069629728868\n",
      "  }\n",
      "]\n",
      "\n",
      "\n",
      "Root Mean Square Error (RMSE): 16.694313195151636\n",
      "\n",
      "\n",
      "Weighted Absolute Percentage Error (WAPE): 0.11886763306802807\n",
      "\n",
      "\n",
      "Mean Absolute Percentage Error (MAPE): 0.22740875541877484\n",
      "\n",
      "\n",
      "Mean Absolute Scaled Error (MASE): 0.6322461044843267\n",
      "\n"
     ]
    }
   ],
   "source": [
    "get_accuracy_metrics_response = forecast.get_accuracy_metrics(PredictorArn=predictor_arn)\n",
    "wql = get_accuracy_metrics_response['PredictorEvaluationResults'][0]['TestWindows'][0]['Metrics']['WeightedQuantileLosses']\n",
    "accuracy_scores = get_accuracy_metrics_response['PredictorEvaluationResults'][0]['TestWindows'][0]['Metrics']['ErrorMetrics'][0]\n",
    "\n",
    "print(f\"Weighted Quantile Loss (wQL): {json.dumps(wql, indent=2)}\\n\\n\")\n",
    "\n",
    "print(f\"Root Mean Square Error (RMSE): {accuracy_scores['RMSE']}\\n\\n\")\n",
    "\n",
    "print(f\"Weighted Absolute Percentage Error (WAPE): {accuracy_scores['WAPE']}\\n\\n\")\n",
    "\n",
    "print(f\"Mean Absolute Percentage Error (MAPE): {accuracy_scores['MAPE']}\\n\\n\")\n",
    "\n",
    "print(f\"Mean Absolute Scaled Error (MASE): {accuracy_scores['MASE']}\\n\")"
   ]
  },
  {
   "cell_type": "markdown",
   "id": "af8e9422",
   "metadata": {},
   "source": [
    "## Etapa 3: Gerando previsões <a class=\"anchor\" id=\"forecast\"></a>\n",
    "Finalmente, geraremos as previsões usando o preditor acima. Posteriormente nesta etapa, também compararemos a previsão com a verdade básica para 1º de fevereiro de 2019 para demonstrar o desempenho real da Amazon Forecast neste conjunto de dados."
   ]
  },
  {
   "cell_type": "markdown",
   "id": "c87c1e34",
   "metadata": {},
   "source": [
    "#### Gerando previsões"
   ]
  },
  {
   "cell_type": "code",
   "execution_count": 30,
   "id": "28fc53a5",
   "metadata": {},
   "outputs": [
    {
     "name": "stdout",
     "output_type": "stream",
     "text": [
      "CREATE_IN_PROGRESS .....................................................................\n",
      "ACTIVE \n",
      "\n",
      "The Forecast with ARN arn:aws:forecast:us-east-1:397232138439:forecast/TAXI_FORECAST is now ACTIVE.\n"
     ]
    }
   ],
   "source": [
    "FORECAST_NAME = \"TAXI_FORECAST\"\n",
    "\n",
    "status_indicator = StatusIndicator()\n",
    "\n",
    "while True:\n",
    "    status = forecast.describe_forecast(ForecastArn=forecast_arn)['Status']\n",
    "    status_indicator.update(status)\n",
    "    if status in ('ACTIVE', 'CREATE_FAILED'): break\n",
    "    time.sleep(10)\n",
    "\n",
    "describe_forecast_response = forecast.describe_forecast(ForecastArn=forecast_arn)\n",
    "print(f\"\\n\\nThe Forecast with ARN {forecast_arn} is now {describe_forecast_response['Status']}.\")"
   ]
  },
  {
   "cell_type": "markdown",
   "id": "dc77ee61",
   "metadata": {},
   "source": [
    "#### Carregue informações reais sobre o local de coleta 48 em 1º de fevereiro de 2019."
   ]
  },
  {
   "cell_type": "code",
   "execution_count": 31,
   "id": "9133827d",
   "metadata": {},
   "outputs": [],
   "source": [
    "ITEM_ID = \"48\"\n",
    "\n",
    "taxi_feb_df = pd.read_csv(\"taxi-feb2019.csv\", dtype = object, names=['timestamp','item_id','target_value'])\n",
    "taxi_feb_df.target_value = taxi_feb_df.target_value.astype(float)\n",
    "\n",
    "actuals = taxi_feb_df[(taxi_feb_df['item_id'] == ITEM_ID)]"
   ]
  },
  {
   "cell_type": "markdown",
   "id": "b7c4723b",
   "metadata": {},
   "source": [
    "#### Previsões de consulta para o local de coleta 48 em 1º de fevereiro de 2019."
   ]
  },
  {
   "cell_type": "code",
   "execution_count": 32,
   "id": "70c44741",
   "metadata": {},
   "outputs": [],
   "source": [
    "forecast_response = forecastquery.query_forecast(\n",
    "    ForecastArn=forecast_arn,\n",
    "    Filters={\"item_id\": ITEM_ID}\n",
    ")\n",
    "\n",
    "forecasts_p10_df = pd.DataFrame.from_dict(forecast_response['Forecast']['Predictions']['p10'])\n",
    "forecasts_p50_df = pd.DataFrame.from_dict(forecast_response['Forecast']['Predictions']['p50'])\n",
    "forecasts_p90_df = pd.DataFrame.from_dict(forecast_response['Forecast']['Predictions']['p90'])"
   ]
  },
  {
   "cell_type": "markdown",
   "id": "a5e2696a",
   "metadata": {},
   "source": [
    "#### Compare as previsões com o valor real"
   ]
  },
  {
   "cell_type": "code",
   "execution_count": 34,
   "id": "eee1732b",
   "metadata": {},
   "outputs": [
    {
     "data": {
      "text/plain": [
       "<AxesSubplot:xlabel='timestamp'>"
      ]
     },
     "execution_count": 34,
     "metadata": {},
     "output_type": "execute_result"
    },
    {
     "data": {
      "image/png": "[encoded data removed]",
      "text/plain": [
       "<Figure size 1080x504 with 1 Axes>"
      ]
     },
     "metadata": {
      "needs_background": "light"
     },
     "output_type": "display_data"
    }
   ],
   "source": [
    "import dateutil\n",
    "\n",
    "results_df = pd.DataFrame(columns=['timestamp', 'value', 'source'])\n",
    "\n",
    "for index, row in actuals.iterrows():\n",
    "    clean_timestamp = dateutil.parser.parse(row['timestamp'])\n",
    "    results_df = results_df.append({'timestamp' : clean_timestamp , 'value' : row['target_value'], 'source': 'actual'} , ignore_index=True)\n",
    "for index, row in forecasts_p10_df.iterrows():\n",
    "    clean_timestamp = dateutil.parser.parse(row['Timestamp'])\n",
    "    results_df = results_df.append({'timestamp' : clean_timestamp , 'value' : row['Value'], 'source': 'p10'} , ignore_index=True)\n",
    "for index, row in forecasts_p50_df.iterrows():\n",
    "    clean_timestamp = dateutil.parser.parse(row['Timestamp'])\n",
    "    results_df = results_df.append({'timestamp' : clean_timestamp , 'value' : row['Value'], 'source': 'p50'} , ignore_index=True)\n",
    "for index, row in forecasts_p90_df.iterrows():\n",
    "    clean_timestamp = dateutil.parser.parse(row['Timestamp'])\n",
    "    results_df = results_df.append({'timestamp' : clean_timestamp , 'value' : row['Value'], 'source': 'p90'} , ignore_index=True)\n",
    "\n",
    "pivot_df = results_df.pivot(columns='source', values='value', index=\"timestamp\")\n",
    "\n",
    "pivot_df.plot(figsize=(15, 7))"
   ]
  },
  {
   "cell_type": "markdown",
   "id": "dd8a8c09",
   "metadata": {},
   "source": [
    "## Clean-up <a class=\"anchor\" id=\"cleanup\"></a>\n",
    "Remova o comentário da seção de código para excluir todos os recursos que foram criados neste bloco de notas."
   ]
  },
  {
   "cell_type": "code",
   "execution_count": null,
   "id": "fc096438",
   "metadata": {},
   "outputs": [],
   "source": [
    "# forecast.delete_resource_tree(ResourceArn = dataset_group_arn)\n",
    "# forecast.delete_resource_tree(ResourceArn = ts_dataset_arn)"
   ]
  }
 ],
 "metadata": {
  "kernelspec": {
   "display_name": "conda_python3",
   "language": "python",
   "name": "conda_python3"
  },
  "language_info": {
   "codemirror_mode": {
    "name": "ipython",
    "version": 3
   },
   "file_extension": ".py",
   "mimetype": "text/x-python",
   "name": "python",
   "nbconvert_exporter": "python",
   "pygments_lexer": "ipython3",
   "version": "3.10.12"
  }
 },
 "nbformat": 4,
 "nbformat_minor": 5
}
